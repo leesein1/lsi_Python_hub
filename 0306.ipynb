{
 "cells": [
  {
   "cell_type": "markdown",
   "id": "303a6295",
   "metadata": {},
   "source": [
    "### while 문"
   ]
  },
  {
   "cell_type": "code",
   "execution_count": 4,
   "id": "8a503ad1",
   "metadata": {},
   "outputs": [],
   "source": [
    "num = 0"
   ]
  },
  {
   "cell_type": "code",
   "execution_count": null,
   "id": "1be39c85",
   "metadata": {},
   "outputs": [],
   "source": []
  },
  {
   "cell_type": "code",
   "execution_count": 4,
   "id": "d088016f",
   "metadata": {},
   "outputs": [
    {
     "name": "stdout",
     "output_type": "stream",
     "text": [
      "0\n",
      "1\n",
      "2\n",
      "3\n"
     ]
    }
   ],
   "source": [
    "while num !=4:\n",
    "    print(num)\n",
    "    num+=1"
   ]
  },
  {
   "cell_type": "code",
   "execution_count": 5,
   "id": "8c96e6ba",
   "metadata": {},
   "outputs": [],
   "source": [
    "while num !=4:\n",
    "    print(num)\n",
    "    num+=1\n",
    "    if num ==4:\n",
    "        break"
   ]
  },
  {
   "cell_type": "code",
   "execution_count": 16,
   "id": "c0167294",
   "metadata": {},
   "outputs": [
    {
     "name": "stdout",
     "output_type": "stream",
     "text": [
      "0\n",
      "1\n",
      "2\n",
      "3\n",
      "4\n",
      "5\n",
      "6\n",
      "7\n",
      "8\n",
      "9\n"
     ]
    }
   ],
   "source": [
    "num = 0\n",
    "while num !=10:\n",
    "    print(num)\n",
    "    num+=1\n",
    "    if num ==4:\n",
    "        continue"
   ]
  },
  {
   "cell_type": "markdown",
   "id": "d68f7d2a",
   "metadata": {},
   "source": [
    "## for 문"
   ]
  },
  {
   "cell_type": "code",
   "execution_count": 19,
   "id": "c228aaa5",
   "metadata": {},
   "outputs": [
    {
     "name": "stdout",
     "output_type": "stream",
     "text": [
      "1\n",
      "2\n",
      "3\n",
      "4\n"
     ]
    }
   ],
   "source": [
    "for i in [1,2,3,4]:\n",
    "    print (i)"
   ]
  },
  {
   "cell_type": "code",
   "execution_count": 27,
   "id": "5a3e5bab",
   "metadata": {},
   "outputs": [
    {
     "name": "stdout",
     "output_type": "stream",
     "text": [
      "1 2\n",
      "3 4\n",
      "5 6\n"
     ]
    }
   ],
   "source": [
    "for i, j in [(1,2),(3,4),(5,6)]:\n",
    "    print(i, j)"
   ]
  },
  {
   "cell_type": "markdown",
   "id": "9c6e2e04",
   "metadata": {},
   "source": [
    "## for문 + if문을 통해서 합격 여부를 맞추세요\n",
    "## [90,25,67,45,80] 라는 학생 5명의 점수를 for 문으로 만들어서 합격 여부 맞추기\n"
   ]
  },
  {
   "cell_type": "code",
   "execution_count": 36,
   "id": "c3dddbfa",
   "metadata": {},
   "outputs": [
    {
     "name": "stdout",
     "output_type": "stream",
     "text": [
      "1 번 학생은 합격입니다.\n",
      "2 번 학생은 불합격입니다\n",
      "3 번 학생은 합격입니다.\n",
      "4 번 학생은 불합격입니다\n",
      "5 번 학생은 합격입니다.\n"
     ]
    }
   ],
   "source": [
    "x=1\n",
    "for i,j in [(1,90),(2,25),(3,67),(4,45),(5,80)]: \n",
    "    x+=1\n",
    "    if j >= 60:\n",
    "        print(x,\"번 학생은\",\"합격입니다.\")\n",
    "    else:\n",
    "        print(x,\"번 학생은\",\"불합격입니다\")"
   ]
  },
  {
   "cell_type": "code",
   "execution_count": 78,
   "id": "295fa3af",
   "metadata": {},
   "outputs": [
    {
     "name": "stdout",
     "output_type": "stream",
     "text": [
      "1번 학생은 합격입니다.\n",
      "2번 학생은 불합격입니다.\n",
      "3번 학생은 합격입니다.\n",
      "4번 학생은 불합격입니다.\n",
      "5번 학생은 합격입니다.\n"
     ]
    }
   ],
   "source": [
    "score = [90,25,67,45,80]\n",
    "num = 0\n",
    "for idx, i in enumerate(score):\n",
    "    if i >= 60:\n",
    "#         print(str(idx+1)+'번 학생은 합격입니다.')\n",
    "        print(f'{idx+1}번 학생은 합격입니다.')\n",
    "    else:\n",
    "        print(f'{idx+1}번 학생은 불합격입니다.')\n",
    "#         print(str(idx+1)+'번 학생은 불합격입니다.')"
   ]
  },
  {
   "cell_type": "markdown",
   "id": "2db55671",
   "metadata": {},
   "source": [
    "# 위의 코드를 함수로 만들기\n",
    "# 한명의 점수만 넣어서 합격인지\n",
    "# 불합격인지 return 받기"
   ]
  },
  {
   "cell_type": "code",
   "execution_count": 84,
   "id": "6b6bd16b",
   "metadata": {},
   "outputs": [],
   "source": [
    "def test_score(a, b=60):\n",
    "    if a >= b:\n",
    "        return '합격입니다'\n",
    "    else:\n",
    "        return '불합격입니다'"
   ]
  },
  {
   "cell_type": "code",
   "execution_count": 106,
   "id": "1b6dcdb6",
   "metadata": {},
   "outputs": [
    {
     "data": {
      "text/plain": [
       "'불합격입니다'"
      ]
     },
     "execution_count": 106,
     "metadata": {},
     "output_type": "execute_result"
    }
   ],
   "source": [
    "test_score(54)"
   ]
  },
  {
   "cell_type": "code",
   "execution_count": 108,
   "id": "6a3681a0",
   "metadata": {},
   "outputs": [],
   "source": [
    "def test_score(a, b=60):\n",
    "    try:\n",
    "        if a >= b:\n",
    "            return '합격입니다'\n",
    "        else:\n",
    "            return '불합격입니다'\n",
    "    except:\n",
    "        return '숫자를 입력해주세요'"
   ]
  },
  {
   "cell_type": "code",
   "execution_count": 109,
   "id": "64d9a5af",
   "metadata": {},
   "outputs": [
    {
     "data": {
      "text/plain": [
       "'숫자를 입력해주세요'"
      ]
     },
     "execution_count": 109,
     "metadata": {},
     "output_type": "execute_result"
    }
   ],
   "source": [
    "test_score('50',60)"
   ]
  },
  {
   "cell_type": "code",
   "execution_count": 117,
   "id": "17c74c6c",
   "metadata": {},
   "outputs": [],
   "source": [
    "def main():\n",
    "    print(\"안녕하세요\")\n",
    "    try:\n",
    "        age = int(input(\"나이를 입력하세요: \"))\n",
    "        print(\"입력하신 나이는 다음과 같습니다: \", age)\n",
    "    except ValueError:\n",
    "        print(\"입력이 잘못되었습니다.\")\n",
    "        print(\"만나서 반가웠습니다.\")"
   ]
  },
  {
   "cell_type": "code",
   "execution_count": null,
   "id": "ea18f10c",
   "metadata": {},
   "outputs": [],
   "source": [
    "main()"
   ]
  },
  {
   "cell_type": "markdown",
   "id": "ca08cd62",
   "metadata": {},
   "source": [
    "# 현재 함수는 잘못입력하면 한방에 끝남\n",
    "# 사용자가 잘못 입력해도 다시 입력하는\n",
    "# 메소드 만들기"
   ]
  },
  {
   "cell_type": "code",
   "execution_count": null,
   "id": "9cbeedb4",
   "metadata": {},
   "outputs": [],
   "source": [
    "def main():\n",
    "    print(\"안녕하세요\")\n",
    "    try:\n",
    "        age = int(input(\"나이를 입력하세요: \"))\n",
    "        print(\"입력하신 나이는 다음과 같습니다: \", age)\n",
    "    except ValueError:\n",
    "        print(\"입력이 잘못되었습니다.\")\n",
    "        return main()"
   ]
  },
  {
   "cell_type": "code",
   "execution_count": 2,
   "id": "e2271b8f",
   "metadata": {},
   "outputs": [],
   "source": [
    "def main2():\n",
    "    print(\"안녕하세요\")\n",
    "    while True:\n",
    "        try:\n",
    "            age = int(input(\"나이를 입력하세요: \"))\n",
    "            print(\"입력하신 나이는 다음과 같습니다: \", age)\n",
    "            break\n",
    "        except ValueError:\n",
    "            print(\"입력이 잘못되었습니다.\")"
   ]
  },
  {
   "cell_type": "code",
   "execution_count": 3,
   "id": "50959e66",
   "metadata": {},
   "outputs": [
    {
     "name": "stdout",
     "output_type": "stream",
     "text": [
      "안녕하세요\n",
      "나이를 입력하세요: 10\n",
      "입력하신 나이는 다음과 같습니다:  10\n"
     ]
    }
   ],
   "source": [
    "main2()"
   ]
  },
  {
   "cell_type": "code",
   "execution_count": 41,
   "id": "c63123e6",
   "metadata": {},
   "outputs": [
    {
     "name": "stdout",
     "output_type": "stream",
     "text": [
      "1\n",
      "2\n",
      "3\n",
      "4\n",
      "5\n",
      "6\n",
      "7\n",
      "8\n",
      "9\n"
     ]
    }
   ],
   "source": [
    "for i in range(1,10):\n",
    "    print(i)"
   ]
  },
  {
   "cell_type": "code",
   "execution_count": 50,
   "id": "ad236827",
   "metadata": {},
   "outputs": [],
   "source": [
    "def test(a,b,c):\n",
    "    d= a+b+c+5\n",
    "    return d"
   ]
  },
  {
   "cell_type": "code",
   "execution_count": 54,
   "id": "4efccd6c",
   "metadata": {},
   "outputs": [
    {
     "data": {
      "text/plain": [
       "17"
      ]
     },
     "execution_count": 54,
     "metadata": {},
     "output_type": "execute_result"
    }
   ],
   "source": [
    "test(5,4,3)"
   ]
  },
  {
   "cell_type": "code",
   "execution_count": 58,
   "id": "7864b502",
   "metadata": {},
   "outputs": [],
   "source": [
    "def test2():\n",
    "    return 'hi'"
   ]
  },
  {
   "cell_type": "code",
   "execution_count": 63,
   "id": "f5f0cef8",
   "metadata": {},
   "outputs": [
    {
     "data": {
      "text/plain": [
       "'hi'"
      ]
     },
     "execution_count": 63,
     "metadata": {},
     "output_type": "execute_result"
    }
   ],
   "source": [
    "test2()"
   ]
  },
  {
   "cell_type": "code",
   "execution_count": 65,
   "id": "a9b81d44",
   "metadata": {},
   "outputs": [],
   "source": [
    "def test3():\n",
    "    print('hi')"
   ]
  },
  {
   "cell_type": "code",
   "execution_count": 67,
   "id": "4563e728",
   "metadata": {},
   "outputs": [
    {
     "name": "stdout",
     "output_type": "stream",
     "text": [
      "hi\n"
     ]
    }
   ],
   "source": [
    "test3()"
   ]
  },
  {
   "cell_type": "code",
   "execution_count": 1,
   "id": "47548e15",
   "metadata": {},
   "outputs": [],
   "source": [
    "def test4(*args):\n",
    "    sum_list = []\n",
    "    print(args) #튜플형태로 넘어감\n",
    "    for i in args:\n",
    "        sum_list.append(i+3)\n",
    "    return sum_list"
   ]
  },
  {
   "cell_type": "code",
   "execution_count": 2,
   "id": "6ea39911",
   "metadata": {},
   "outputs": [
    {
     "name": "stdout",
     "output_type": "stream",
     "text": [
      "(1, 2, 3, 4)\n"
     ]
    },
    {
     "data": {
      "text/plain": [
       "[4, 5, 6, 7]"
      ]
     },
     "execution_count": 2,
     "metadata": {},
     "output_type": "execute_result"
    }
   ],
   "source": [
    "test4(1,2,3,4)"
   ]
  },
  {
   "cell_type": "markdown",
   "id": "367fe472",
   "metadata": {},
   "source": [
    "# lambda"
   ]
  },
  {
   "cell_type": "code",
   "execution_count": 5,
   "id": "01d96f45",
   "metadata": {},
   "outputs": [],
   "source": [
    "def show(s):\n",
    "    print(s)"
   ]
  },
  {
   "cell_type": "code",
   "execution_count": 10,
   "id": "faf1a7fa",
   "metadata": {},
   "outputs": [
    {
     "name": "stdout",
     "output_type": "stream",
     "text": [
      "안녕하세요\n"
     ]
    }
   ],
   "source": [
    "show('안녕하세요')"
   ]
  },
  {
   "cell_type": "code",
   "execution_count": 18,
   "id": "b0196b8d",
   "metadata": {},
   "outputs": [],
   "source": [
    "ans = lambda s: print(s)"
   ]
  },
  {
   "cell_type": "code",
   "execution_count": 19,
   "id": "0befa927",
   "metadata": {},
   "outputs": [
    {
     "name": "stdout",
     "output_type": "stream",
     "text": [
      "안녕하세요\n"
     ]
    }
   ],
   "source": [
    "ans('안녕하세요')"
   ]
  },
  {
   "cell_type": "code",
   "execution_count": 21,
   "id": "b8bf1c25",
   "metadata": {},
   "outputs": [],
   "source": [
    "lst = ['가렌', '파이크', '트리스타나', '카타리나'] "
   ]
  },
  {
   "cell_type": "markdown",
   "id": "814feca5",
   "metadata": {},
   "source": [
    "# map\n",
    "# filter"
   ]
  },
  {
   "cell_type": "code",
   "execution_count": 24,
   "id": "53148b8b",
   "metadata": {},
   "outputs": [
    {
     "data": {
      "text/plain": [
       "['챔피언 가렌', '챔피언 파이크', '챔피언 트리스타나', '챔피언 카타리나']"
      ]
     },
     "execution_count": 24,
     "metadata": {},
     "output_type": "execute_result"
    }
   ],
   "source": [
    "list(map(lambda x:'챔피언 '+x,lst))"
   ]
  },
  {
   "cell_type": "code",
   "execution_count": 25,
   "id": "aedaf69a",
   "metadata": {},
   "outputs": [
    {
     "data": {
      "text/plain": [
       "['파이크']"
      ]
     },
     "execution_count": 25,
     "metadata": {},
     "output_type": "execute_result"
    }
   ],
   "source": [
    "list(filter(lambda x: x if len(x)==3 else '', lst))"
   ]
  },
  {
   "cell_type": "code",
   "execution_count": 26,
   "id": "60c7373d",
   "metadata": {},
   "outputs": [],
   "source": [
    "num_list = [1,2,3,4,5,6,7,8,9,10]"
   ]
  },
  {
   "cell_type": "code",
   "execution_count": 27,
   "id": "8dc0aec1",
   "metadata": {},
   "outputs": [
    {
     "data": {
      "text/plain": [
       "[2, 4, 6, 8, 10, 12, 14, 16, 18, 20]"
      ]
     },
     "execution_count": 27,
     "metadata": {},
     "output_type": "execute_result"
    }
   ],
   "source": [
    "list(map(lambda x: x*2, num_list))"
   ]
  },
  {
   "cell_type": "code",
   "execution_count": 31,
   "id": "43db7263",
   "metadata": {},
   "outputs": [
    {
     "data": {
      "text/plain": [
       "[2, 4, 6, 8, 10]"
      ]
     },
     "execution_count": 31,
     "metadata": {},
     "output_type": "execute_result"
    }
   ],
   "source": [
    "list(filter(lambda x:x if x%2 == 0  else '', num_list))"
   ]
  },
  {
   "cell_type": "code",
   "execution_count": 38,
   "id": "b41f2298",
   "metadata": {},
   "outputs": [],
   "source": [
    "def sum_num(x):\n",
    "    b = x * 2\n",
    "    return b"
   ]
  },
  {
   "cell_type": "code",
   "execution_count": 40,
   "id": "b4d7039d",
   "metadata": {},
   "outputs": [
    {
     "data": {
      "text/plain": [
       "[2, 4, 6, 8, 10, 12, 14, 16, 18, 20]"
      ]
     },
     "execution_count": 40,
     "metadata": {},
     "output_type": "execute_result"
    }
   ],
   "source": [
    "list(map(lambda x: sum_num(x) ,num_list))"
   ]
  },
  {
   "cell_type": "markdown",
   "id": "7fd7dd08",
   "metadata": {},
   "source": [
    "## class"
   ]
  },
  {
   "cell_type": "code",
   "execution_count": 51,
   "id": "befe6303",
   "metadata": {},
   "outputs": [],
   "source": [
    "result1 = 0\n",
    "result2 = 0"
   ]
  },
  {
   "cell_type": "code",
   "execution_count": 47,
   "id": "5a222009",
   "metadata": {},
   "outputs": [],
   "source": [
    "def add1(num):\n",
    "    global result1\n",
    "    result += num\n",
    "    return result1\n",
    "\n",
    "def add2(num):\n",
    "    global result2\n",
    "    result += num\n",
    "    return result2"
   ]
  },
  {
   "cell_type": "code",
   "execution_count": 52,
   "id": "f2524c9e",
   "metadata": {},
   "outputs": [
    {
     "data": {
      "text/plain": [
       "3"
      ]
     },
     "execution_count": 52,
     "metadata": {},
     "output_type": "execute_result"
    }
   ],
   "source": [
    "add(3)"
   ]
  },
  {
   "cell_type": "code",
   "execution_count": 54,
   "id": "9fd116b4",
   "metadata": {},
   "outputs": [
    {
     "data": {
      "text/plain": [
       "11"
      ]
     },
     "execution_count": 54,
     "metadata": {},
     "output_type": "execute_result"
    }
   ],
   "source": [
    "add(4)"
   ]
  },
  {
   "cell_type": "code",
   "execution_count": 87,
   "id": "7e536c67",
   "metadata": {},
   "outputs": [],
   "source": [
    "class Calculator:\n",
    "    def __init__(self, first, second):\n",
    "        self.result = 0\n",
    "        self.first = first\n",
    "        self.second = second\n",
    "        \n",
    "    def add(self,num):\n",
    "        self.result += num\n",
    "        return self.result\n",
    "    \n",
    "    def multi(self):\n",
    "        mult = self.first * self.second\n",
    "        return mult"
   ]
  },
  {
   "cell_type": "code",
   "execution_count": 89,
   "id": "a6a04423",
   "metadata": {},
   "outputs": [],
   "source": [
    "cal1 = Calculator(4,2)"
   ]
  },
  {
   "cell_type": "code",
   "execution_count": 90,
   "id": "b5fd355f",
   "metadata": {},
   "outputs": [
    {
     "data": {
      "text/plain": [
       "8"
      ]
     },
     "execution_count": 90,
     "metadata": {},
     "output_type": "execute_result"
    }
   ],
   "source": [
    "cal1.multi()"
   ]
  },
  {
   "cell_type": "code",
   "execution_count": 74,
   "id": "55e5fd98",
   "metadata": {},
   "outputs": [
    {
     "data": {
      "text/plain": [
       "10"
      ]
     },
     "execution_count": 74,
     "metadata": {},
     "output_type": "execute_result"
    }
   ],
   "source": [
    "cal1.add(3)"
   ]
  },
  {
   "cell_type": "code",
   "execution_count": 69,
   "id": "94d9a3a3",
   "metadata": {},
   "outputs": [
    {
     "data": {
      "text/plain": [
       "7"
      ]
     },
     "execution_count": 69,
     "metadata": {},
     "output_type": "execute_result"
    }
   ],
   "source": [
    "cal1.add(4)"
   ]
  },
  {
   "cell_type": "code",
   "execution_count": 85,
   "id": "05e8d8d7",
   "metadata": {},
   "outputs": [],
   "source": [
    "class MoreCalculator(Calculator):\n",
    "    def put(self, num):\n",
    "        self.result -=num\n",
    "        return self.result"
   ]
  },
  {
   "cell_type": "code",
   "execution_count": 83,
   "id": "6bcaeabb",
   "metadata": {},
   "outputs": [],
   "source": [
    "a = MoreCalculator()"
   ]
  },
  {
   "cell_type": "code",
   "execution_count": 84,
   "id": "3f223642",
   "metadata": {},
   "outputs": [
    {
     "data": {
      "text/plain": [
       "-3"
      ]
     },
     "execution_count": 84,
     "metadata": {},
     "output_type": "execute_result"
    }
   ],
   "source": [
    "a.put(3)"
   ]
  },
  {
   "cell_type": "markdown",
   "id": "4399fd6d",
   "metadata": {},
   "source": [
    "# 파이썬 내부함수"
   ]
  },
  {
   "cell_type": "code",
   "execution_count": 91,
   "id": "a56bf8c8",
   "metadata": {},
   "outputs": [],
   "source": [
    "a='11'\n",
    "b='12'"
   ]
  },
  {
   "cell_type": "code",
   "execution_count": 92,
   "id": "792deb09",
   "metadata": {},
   "outputs": [
    {
     "data": {
      "text/plain": [
       "1656897131120"
      ]
     },
     "execution_count": 92,
     "metadata": {},
     "output_type": "execute_result"
    }
   ],
   "source": [
    "id(a)"
   ]
  },
  {
   "cell_type": "code",
   "execution_count": 93,
   "id": "84d2eea3",
   "metadata": {},
   "outputs": [
    {
     "data": {
      "text/plain": [
       "1656966214960"
      ]
     },
     "execution_count": 93,
     "metadata": {},
     "output_type": "execute_result"
    }
   ],
   "source": [
    "id(b)"
   ]
  },
  {
   "cell_type": "markdown",
   "id": "a44dfbd6",
   "metadata": {},
   "source": [
    "# len-리스트의 길이를 반환하는 함수"
   ]
  },
  {
   "cell_type": "code",
   "execution_count": 99,
   "id": "42fb7d09",
   "metadata": {},
   "outputs": [],
   "source": [
    "num_list = [1,2,3,4,5,6,7,8,9,10,11,12,13,14,15,16,17]"
   ]
  },
  {
   "cell_type": "code",
   "execution_count": 112,
   "id": "60822d6c",
   "metadata": {},
   "outputs": [
    {
     "name": "stdout",
     "output_type": "stream",
     "text": [
      "0\n",
      "1\n",
      "2\n",
      "3\n",
      "4\n",
      "5\n",
      "6\n",
      "7\n",
      "8\n",
      "9\n",
      "10\n",
      "11\n",
      "12\n",
      "13\n",
      "14\n",
      "15\n",
      "16\n"
     ]
    }
   ],
   "source": [
    "for i in range(len(num_list)):\n",
    "    print(i)"
   ]
  },
  {
   "cell_type": "code",
   "execution_count": 103,
   "id": "332c60e4",
   "metadata": {},
   "outputs": [
    {
     "data": {
      "text/plain": [
       "17"
      ]
     },
     "execution_count": 103,
     "metadata": {},
     "output_type": "execute_result"
    }
   ],
   "source": [
    "max(num_list)"
   ]
  },
  {
   "cell_type": "code",
   "execution_count": 106,
   "id": "30e1c084",
   "metadata": {},
   "outputs": [
    {
     "data": {
      "text/plain": [
       "1"
      ]
     },
     "execution_count": 106,
     "metadata": {},
     "output_type": "execute_result"
    }
   ],
   "source": [
    "min(num_list)"
   ]
  },
  {
   "cell_type": "code",
   "execution_count": 109,
   "id": "0668fed3",
   "metadata": {},
   "outputs": [
    {
     "data": {
      "text/plain": [
       "5"
      ]
     },
     "execution_count": 109,
     "metadata": {},
     "output_type": "execute_result"
    }
   ],
   "source": [
    "round(4.6)"
   ]
  },
  {
   "cell_type": "markdown",
   "id": "8ce33a0c",
   "metadata": {},
   "source": [
    "# zip"
   ]
  },
  {
   "cell_type": "code",
   "execution_count": 114,
   "id": "8d33fbc5",
   "metadata": {},
   "outputs": [],
   "source": [
    "a = [1,2,3]\n",
    "b = [4,5,6]"
   ]
  },
  {
   "cell_type": "code",
   "execution_count": 116,
   "id": "da800ec3",
   "metadata": {},
   "outputs": [
    {
     "data": {
      "text/plain": [
       "[(1, 4), (2, 5), (3, 6)]"
      ]
     },
     "execution_count": 116,
     "metadata": {},
     "output_type": "execute_result"
    }
   ],
   "source": [
    "list(zip(a,b))"
   ]
  },
  {
   "cell_type": "code",
   "execution_count": 118,
   "id": "9ef5e677",
   "metadata": {},
   "outputs": [
    {
     "data": {
      "text/plain": [
       "[('a', 'd'), ('b', 'e'), ('c', 'f')]"
      ]
     },
     "execution_count": 118,
     "metadata": {},
     "output_type": "execute_result"
    }
   ],
   "source": [
    "list(zip('abc','def'))"
   ]
  },
  {
   "cell_type": "markdown",
   "id": "fc86e97e",
   "metadata": {},
   "source": [
    "# 1부터 100까지의 정수 중 짝수만 저장된 리스트를 생성하라."
   ]
  },
  {
   "cell_type": "code",
   "execution_count": 32,
   "id": "c5a44d25",
   "metadata": {},
   "outputs": [
    {
     "name": "stdout",
     "output_type": "stream",
     "text": [
      "[2, 4, 6, 8, 10, 12, 14, 16, 18, 20, 22, 24, 26, 28, 30, 32, 34, 36, 38, 40, 42, 44, 46, 48, 50, 52, 54, 56, 58, 60, 62, 64, 66, 68, 70, 72, 74, 76, 78, 80, 82, 84, 86, 88, 90, 92, 94, 96, 98, 100]\n"
     ]
    }
   ],
   "source": [
    "x_list = []\n",
    "for i in range(1,101):\n",
    "    if int(i)%2 ==  0:\n",
    "        x_list.append(i)\n",
    "print(x_list)"
   ]
  },
  {
   "cell_type": "code",
   "execution_count": 36,
   "id": "0cc506d9",
   "metadata": {},
   "outputs": [
    {
     "name": "stdout",
     "output_type": "stream",
     "text": [
      "[2, 4, 6, 8, 10, 12, 14, 16, 18, 20, 22, 24, 26, 28, 30, 32, 34, 36, 38, 40, 42, 44, 46, 48, 50, 52, 54, 56, 58, 60, 62, 64, 66, 68, 70, 72, 74, 76, 78, 80, 82, 84, 86, 88, 90, 92, 94, 96, 98, 100]\n"
     ]
    }
   ],
   "source": [
    "a = list(range(2,101,2))\n",
    "print(a)"
   ]
  },
  {
   "cell_type": "markdown",
   "id": "d473f0c7",
   "metadata": {},
   "source": [
    "# 1부터 50까지의 숫자 중 5의 배수를 출력하는 코드를 작성 (for문 활용)"
   ]
  },
  {
   "cell_type": "code",
   "execution_count": 124,
   "id": "fe62946a",
   "metadata": {},
   "outputs": [
    {
     "name": "stdout",
     "output_type": "stream",
     "text": [
      "[5, 10, 15, 20, 25, 30, 35, 40, 45, 50]\n"
     ]
    }
   ],
   "source": [
    "a_list = []\n",
    "for i in range(1,51):\n",
    "    if i%5 == 0 :\n",
    "        a_list.append(i)\n",
    "print(a_list)"
   ]
  },
  {
   "cell_type": "markdown",
   "id": "53d52303",
   "metadata": {},
   "source": [
    "# 아래와 같이 리스트의 데이터를 출력하는 코드를 작성하시"
   ]
  },
  {
   "cell_type": "code",
   "execution_count": 125,
   "id": "3db80227",
   "metadata": {},
   "outputs": [
    {
     "name": "stdout",
     "output_type": "stream",
     "text": [
      "0 32100\n",
      "1 32150\n",
      "2 32000\n",
      "3 32500\n"
     ]
    }
   ],
   "source": [
    "price_list = [32100, 32150, 32000, 32500]\n",
    "\n",
    "for idx, i in enumerate(price_list):\n",
    "    print(idx, i)"
   ]
  },
  {
   "cell_type": "markdown",
   "id": "4caa8e38",
   "metadata": {},
   "source": [
    "# 반복문을 사용하여 다음과 같이 2단에서 9단까지 작성 딕셔너리 이용\n",
    "# key값은 숫자형 type 딕셔너리 value값은 리스트 type"
   ]
  },
  {
   "cell_type": "code",
   "execution_count": 163,
   "id": "871d8cf5",
   "metadata": {},
   "outputs": [
    {
     "name": "stdout",
     "output_type": "stream",
     "text": [
      "{2: [2, 4, 6, 8, 10, 12, 14, 16, 18], 3: [3, 6, 9, 12, 15, 18, 21, 24, 27], 4: [4, 8, 12, 16, 20, 24, 28, 32, 36], 5: [5, 10, 15, 20, 25, 30, 35, 40, 45], 6: [6, 12, 18, 24, 30, 36, 42, 48, 54], 7: [7, 14, 21, 28, 35, 42, 49, 56, 63], 8: [8, 16, 24, 32, 40, 48, 56, 64, 72], 9: [9, 18, 27, 36, 45, 54, 63, 72, 81]}\n"
     ]
    }
   ],
   "source": [
    "dic = {}\n",
    "v_list = []\n",
    "for i in range(2, 10):\n",
    "    for j in range(1, 10):\n",
    "        v_list.append(i*j)\n",
    "    dic[i] = v_list\n",
    "    v_list=[]\n",
    "print(dic)"
   ]
  },
  {
   "cell_type": "code",
   "execution_count": null,
   "id": "cde19d30",
   "metadata": {},
   "outputs": [],
   "source": []
  },
  {
   "cell_type": "markdown",
   "id": "f9769a33",
   "metadata": {},
   "source": [
    "# 리스트에 아래의 데이터가 저장되 있다고 가정, 아래와 반복문을 이용하여 아래와 같이 출력"
   ]
  },
  {
   "cell_type": "code",
   "execution_count": 167,
   "id": "ac67ddd5",
   "metadata": {},
   "outputs": [
    {
     "name": "stdout",
     "output_type": "stream",
     "text": [
      "차량번호: 1011\n",
      "차량번호: 1022\n",
      "차량번호: 1201\n",
      "차량번호: 7202\n",
      "차량번호: 2301\n",
      "차량번호: 1302\n"
     ]
    }
   ],
   "source": [
    "car_num =[[1011,1022],[1201,7202],[2301,1302]]\n",
    "\n",
    "for i in car_num:\n",
    "    print(\"차량번호:\",i[0])\n",
    "    print(\"차량번호:\",i[1])"
   ]
  },
  {
   "cell_type": "code",
   "execution_count": 37,
   "id": "991cff80",
   "metadata": {},
   "outputs": [
    {
     "name": "stdout",
     "output_type": "stream",
     "text": [
      "주민등록번호를 입력해주세요(-)포함54\n"
     ]
    },
    {
     "ename": "IndexError",
     "evalue": "string index out of range",
     "output_type": "error",
     "traceback": [
      "\u001b[1;31m---------------------------------------------------------------------------\u001b[0m",
      "\u001b[1;31mIndexError\u001b[0m                                Traceback (most recent call last)",
      "\u001b[1;32m~\\AppData\\Local\\Temp\\ipykernel_12544\\3828503201.py\u001b[0m in \u001b[0;36m<module>\u001b[1;34m\u001b[0m\n\u001b[0;32m      6\u001b[0m     \u001b[1;32melse\u001b[0m\u001b[1;33m:\u001b[0m\u001b[1;33m\u001b[0m\u001b[1;33m\u001b[0m\u001b[0m\n\u001b[0;32m      7\u001b[0m         \u001b[0mprint\u001b[0m\u001b[1;33m(\u001b[0m\u001b[1;34m\"여자\"\u001b[0m\u001b[1;33m)\u001b[0m\u001b[1;33m\u001b[0m\u001b[1;33m\u001b[0m\u001b[0m\n\u001b[1;32m----> 8\u001b[1;33m \u001b[0mn_num\u001b[0m\u001b[1;33m(\u001b[0m\u001b[1;33m)\u001b[0m\u001b[1;33m\u001b[0m\u001b[1;33m\u001b[0m\u001b[0m\n\u001b[0m",
      "\u001b[1;32m~\\AppData\\Local\\Temp\\ipykernel_12544\\3828503201.py\u001b[0m in \u001b[0;36mn_num\u001b[1;34m()\u001b[0m\n\u001b[0;32m      1\u001b[0m \u001b[1;32mdef\u001b[0m \u001b[0mn_num\u001b[0m\u001b[1;33m(\u001b[0m\u001b[1;33m)\u001b[0m\u001b[1;33m:\u001b[0m\u001b[1;33m\u001b[0m\u001b[1;33m\u001b[0m\u001b[0m\n\u001b[0;32m      2\u001b[0m     \u001b[0mnum\u001b[0m \u001b[1;33m=\u001b[0m \u001b[0minput\u001b[0m\u001b[1;33m(\u001b[0m\u001b[1;34m\"주민등록번호를 입력해주세요(-)포함\"\u001b[0m\u001b[1;33m)\u001b[0m\u001b[1;33m\u001b[0m\u001b[1;33m\u001b[0m\u001b[0m\n\u001b[1;32m----> 3\u001b[1;33m     \u001b[0mprint\u001b[0m\u001b[1;33m(\u001b[0m\u001b[0mnum\u001b[0m\u001b[1;33m[\u001b[0m\u001b[1;36m7\u001b[0m\u001b[1;33m]\u001b[0m\u001b[1;33m)\u001b[0m\u001b[1;33m\u001b[0m\u001b[1;33m\u001b[0m\u001b[0m\n\u001b[0m\u001b[0;32m      4\u001b[0m     \u001b[1;32mif\u001b[0m \u001b[0mnum\u001b[0m\u001b[1;33m[\u001b[0m\u001b[1;36m7\u001b[0m\u001b[1;33m]\u001b[0m \u001b[1;33m==\u001b[0m \u001b[1;34m\"1\"\u001b[0m\u001b[1;33m:\u001b[0m\u001b[1;33m\u001b[0m\u001b[1;33m\u001b[0m\u001b[0m\n\u001b[0;32m      5\u001b[0m         \u001b[0mprint\u001b[0m\u001b[1;33m(\u001b[0m\u001b[1;34m\"남자\"\u001b[0m\u001b[1;33m)\u001b[0m\u001b[1;33m\u001b[0m\u001b[1;33m\u001b[0m\u001b[0m\n",
      "\u001b[1;31mIndexError\u001b[0m: string index out of range"
     ]
    }
   ],
   "source": [
    "def n_num():\n",
    "    num = input(\"주민등록번호를 입력해주세요(-)포함\")\n",
    "    print(num[7])\n",
    "    if num[7] == \"1\":\n",
    "        print(\"남자\")\n",
    "    else:\n",
    "        print(\"여자\")\n",
    "n_num()"
   ]
  },
  {
   "cell_type": "code",
   "execution_count": 39,
   "id": "8ba1c1ec",
   "metadata": {},
   "outputs": [
    {
     "name": "stdout",
     "output_type": "stream",
     "text": [
      "번호입력980926-1140517\n",
      "남성\n"
     ]
    }
   ],
   "source": [
    "def jumin(a):\n",
    "    b = a.split('-')\n",
    "    if b[1][0] =='1':\n",
    "        print(\"남성\")\n",
    "    else:\n",
    "        print(\"여성\")\n",
    "jumin(input(\"번호입력\"))"
   ]
  },
  {
   "cell_type": "code",
   "execution_count": 40,
   "id": "e13165ff",
   "metadata": {},
   "outputs": [
    {
     "name": "stdout",
     "output_type": "stream",
     "text": [
      "입력(문자열)S5\n"
     ]
    },
    {
     "data": {
      "text/plain": [
       "2014"
      ]
     },
     "execution_count": 40,
     "metadata": {},
     "output_type": "execute_result"
    }
   ],
   "source": [
    "def search():\n",
    "    phone = {\"S5\":2014, \"S7\":2016, \"note8\":2017, \"S9\":2018,\"S10\":2019}\n",
    "    src = input(\"입력(문자열)\")\n",
    "    return phone.get(src)\n",
    "search()"
   ]
  },
  {
   "cell_type": "code",
   "execution_count": 9,
   "id": "53d9511c",
   "metadata": {},
   "outputs": [
    {
     "name": "stdout",
     "output_type": "stream",
     "text": [
      "전화번호를 입력하세요asdads\n"
     ]
    },
    {
     "data": {
      "text/plain": [
       "'####a####s####d####a####d####s####'"
      ]
     },
     "execution_count": 9,
     "metadata": {},
     "output_type": "execute_result"
    }
   ],
   "source": [
    "def re():\n",
    "    phone_number = input('전화번호를 입력하세요')\n",
    "    phone_number_len =len(phone_number)\n",
    "    return phone_number.replace(phone_number[9:],\"####\")\n",
    "re()"
   ]
  },
  {
   "cell_type": "code",
   "execution_count": 41,
   "id": "dbc933f0",
   "metadata": {},
   "outputs": [
    {
     "name": "stdout",
     "output_type": "stream",
     "text": [
      "전화번호를 입력하세요asd\n",
      "전화번호는: as####\n"
     ]
    }
   ],
   "source": [
    "def re1():\n",
    "    phone_number1 = input('전화번호를 입력하세요')\n",
    "    pnl =len(phone_number1)-4\n",
    "    print(\"전화번호는: \"+phone_number1[0:pnl]+\"####\")\n",
    "re1()"
   ]
  },
  {
   "cell_type": "code",
   "execution_count": 44,
   "id": "916df3ae",
   "metadata": {},
   "outputs": [
    {
     "name": "stdout",
     "output_type": "stream",
     "text": [
      "전화번호를 입력하세요010-3100-7025\n"
     ]
    },
    {
     "ename": "TypeError",
     "evalue": "replace expected at least 2 arguments, got 1",
     "output_type": "error",
     "traceback": [
      "\u001b[1;31m---------------------------------------------------------------------------\u001b[0m",
      "\u001b[1;31mTypeError\u001b[0m                                 Traceback (most recent call last)",
      "\u001b[1;32m~\\AppData\\Local\\Temp\\ipykernel_12544\\167203326.py\u001b[0m in \u001b[0;36m<module>\u001b[1;34m\u001b[0m\n\u001b[0;32m      2\u001b[0m     \u001b[0ma\u001b[0m \u001b[1;33m=\u001b[0m \u001b[0minput\u001b[0m\u001b[1;33m(\u001b[0m\u001b[1;34m\"전화번호를 입력하세요\"\u001b[0m\u001b[1;33m)\u001b[0m\u001b[1;33m\u001b[0m\u001b[1;33m\u001b[0m\u001b[0m\n\u001b[0;32m      3\u001b[0m     \u001b[0ma\u001b[0m\u001b[1;33m[\u001b[0m\u001b[1;33m-\u001b[0m\u001b[1;36m4\u001b[0m\u001b[1;33m:\u001b[0m\u001b[1;33m]\u001b[0m\u001b[1;33m.\u001b[0m\u001b[0mreplace\u001b[0m\u001b[1;33m(\u001b[0m\u001b[1;34m'####'\u001b[0m\u001b[1;33m)\u001b[0m\u001b[1;33m\u001b[0m\u001b[1;33m\u001b[0m\u001b[0m\n\u001b[1;32m----> 4\u001b[1;33m \u001b[0mphone\u001b[0m\u001b[1;33m(\u001b[0m\u001b[1;33m)\u001b[0m\u001b[1;33m\u001b[0m\u001b[1;33m\u001b[0m\u001b[0m\n\u001b[0m",
      "\u001b[1;32m~\\AppData\\Local\\Temp\\ipykernel_12544\\167203326.py\u001b[0m in \u001b[0;36mphone\u001b[1;34m()\u001b[0m\n\u001b[0;32m      1\u001b[0m \u001b[1;32mdef\u001b[0m \u001b[0mphone\u001b[0m\u001b[1;33m(\u001b[0m\u001b[1;33m)\u001b[0m\u001b[1;33m:\u001b[0m\u001b[1;33m\u001b[0m\u001b[1;33m\u001b[0m\u001b[0m\n\u001b[0;32m      2\u001b[0m     \u001b[0ma\u001b[0m \u001b[1;33m=\u001b[0m \u001b[0minput\u001b[0m\u001b[1;33m(\u001b[0m\u001b[1;34m\"전화번호를 입력하세요\"\u001b[0m\u001b[1;33m)\u001b[0m\u001b[1;33m\u001b[0m\u001b[1;33m\u001b[0m\u001b[0m\n\u001b[1;32m----> 3\u001b[1;33m     \u001b[0ma\u001b[0m\u001b[1;33m[\u001b[0m\u001b[1;33m-\u001b[0m\u001b[1;36m4\u001b[0m\u001b[1;33m:\u001b[0m\u001b[1;33m]\u001b[0m\u001b[1;33m.\u001b[0m\u001b[0mreplace\u001b[0m\u001b[1;33m(\u001b[0m\u001b[1;34m'####'\u001b[0m\u001b[1;33m)\u001b[0m\u001b[1;33m\u001b[0m\u001b[1;33m\u001b[0m\u001b[0m\n\u001b[0m\u001b[0;32m      4\u001b[0m \u001b[0mphone\u001b[0m\u001b[1;33m(\u001b[0m\u001b[1;33m)\u001b[0m\u001b[1;33m\u001b[0m\u001b[1;33m\u001b[0m\u001b[0m\n",
      "\u001b[1;31mTypeError\u001b[0m: replace expected at least 2 arguments, got 1"
     ]
    }
   ],
   "source": []
  },
  {
   "cell_type": "code",
   "execution_count": 31,
   "id": "bfdb9383",
   "metadata": {},
   "outputs": [
    {
     "name": "stdout",
     "output_type": "stream",
     "text": [
      "전화번호를 입력하세요01031007025\n",
      "11 인풋\n",
      "7 슬라이스\n"
     ]
    }
   ],
   "source": [
    "phone_number1 = input('전화번호를 입력하세요')\n",
    "print(len(phone_number1),\"인풋\")\n",
    "\n",
    "pnl =len(phone_number1)-4\n",
    "phone_number1[0:pnl]\n",
    "print(len(phone_number1[0:pnl]),\"슬라이스\")"
   ]
  }
 ],
 "metadata": {
  "kernelspec": {
   "display_name": "Python 3 (ipykernel)",
   "language": "python",
   "name": "python3"
  },
  "language_info": {
   "codemirror_mode": {
    "name": "ipython",
    "version": 3
   },
   "file_extension": ".py",
   "mimetype": "text/x-python",
   "name": "python",
   "nbconvert_exporter": "python",
   "pygments_lexer": "ipython3",
   "version": "3.9.13"
  }
 },
 "nbformat": 4,
 "nbformat_minor": 5
}
