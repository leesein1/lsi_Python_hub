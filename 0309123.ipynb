{
 "cells": [
  {
   "cell_type": "code",
   "execution_count": 3,
   "id": "87a1df6f",
   "metadata": {},
   "outputs": [
    {
     "data": {
      "text/plain": [
       "70"
      ]
     },
     "execution_count": 3,
     "metadata": {},
     "output_type": "execute_result"
    }
   ],
   "source": [
    "35+35"
   ]
  },
  {
   "cell_type": "code",
   "execution_count": 6,
   "id": "1a1ae83a",
   "metadata": {},
   "outputs": [
    {
     "data": {
      "text/plain": [
       "str"
      ]
     },
     "execution_count": 6,
     "metadata": {},
     "output_type": "execute_result"
    }
   ],
   "source": [
    "type(\"5\")"
   ]
  },
  {
   "cell_type": "code",
   "execution_count": 8,
   "id": "80ba783b",
   "metadata": {},
   "outputs": [
    {
     "ename": "TypeError",
     "evalue": "can only concatenate str (not \"int\") to str",
     "output_type": "error",
     "traceback": [
      "\u001b[1;31m---------------------------------------------------------------------------\u001b[0m",
      "\u001b[1;31mTypeError\u001b[0m                                 Traceback (most recent call last)",
      "\u001b[1;32m~\\AppData\\Local\\Temp\\ipykernel_12964\\2663586614.py\u001b[0m in \u001b[0;36m<module>\u001b[1;34m\u001b[0m\n\u001b[1;32m----> 1\u001b[1;33m \u001b[1;34m\"3\"\u001b[0m\u001b[1;33m+\u001b[0m\u001b[1;36m5\u001b[0m\u001b[1;33m\u001b[0m\u001b[1;33m\u001b[0m\u001b[0m\n\u001b[0m",
      "\u001b[1;31mTypeError\u001b[0m: can only concatenate str (not \"int\") to str"
     ]
    }
   ],
   "source": [
    "\"3\"+5"
   ]
  },
  {
   "cell_type": "code",
   "execution_count": 11,
   "id": "d3d333c0",
   "metadata": {},
   "outputs": [],
   "source": [
    "a='hello'\n",
    "b=13\n",
    "c = 3.0"
   ]
  },
  {
   "cell_type": "code",
   "execution_count": 18,
   "id": "95525f72",
   "metadata": {},
   "outputs": [
    {
     "data": {
      "text/plain": [
       "float"
      ]
     },
     "execution_count": 18,
     "metadata": {},
     "output_type": "execute_result"
    }
   ],
   "source": [
    "type(c)"
   ]
  },
  {
   "cell_type": "code",
   "execution_count": 21,
   "id": "f7a8c6d7",
   "metadata": {},
   "outputs": [
    {
     "name": "stdout",
     "output_type": "stream",
     "text": [
      "world\n"
     ]
    }
   ],
   "source": [
    "a= 'world'\n",
    "print(a)"
   ]
  },
  {
   "cell_type": "code",
   "execution_count": 25,
   "id": "534cc644",
   "metadata": {},
   "outputs": [
    {
     "name": "stdout",
     "output_type": "stream",
     "text": [
      "0 797\n"
     ]
    }
   ],
   "source": [
    "x, y = 0, 797\n",
    "print (x, y)"
   ]
  },
  {
   "cell_type": "code",
   "execution_count": 34,
   "id": "aa7ad717",
   "metadata": {},
   "outputs": [
    {
     "name": "stdout",
     "output_type": "stream",
     "text": [
      "자신의 나이를 적어주세요42\n"
     ]
    }
   ],
   "source": [
    "age = int(input('자신의 나이를 적어주세요'))"
   ]
  },
  {
   "cell_type": "code",
   "execution_count": 37,
   "id": "efd2a8a1",
   "metadata": {},
   "outputs": [
    {
     "data": {
      "text/plain": [
       "int"
      ]
     },
     "execution_count": 37,
     "metadata": {},
     "output_type": "execute_result"
    }
   ],
   "source": [
    "type(age)"
   ]
  },
  {
   "cell_type": "code",
   "execution_count": 47,
   "id": "0e22700e",
   "metadata": {},
   "outputs": [
    {
     "name": "stdout",
     "output_type": "stream",
     "text": [
      "sum: 0\n",
      "sum: 1\n",
      "sum: 3\n",
      "sum: 6\n",
      "sum: 10\n",
      "sum: 15\n",
      "sum: 21\n",
      "sum: 28\n",
      "sum: 36\n",
      "sum: 45\n",
      "sum: 55\n"
     ]
    }
   ],
   "source": [
    "sum = 0\n",
    "for i in [0,1,2,3,4,5,6,7,8,9,10]:\n",
    "    sum = sum +i\n",
    "    print('sum:',sum)"
   ]
  },
  {
   "cell_type": "code",
   "execution_count": 48,
   "id": "42f09858",
   "metadata": {},
   "outputs": [
    {
     "name": "stdout",
     "output_type": "stream",
     "text": [
      "sum: 55\n"
     ]
    }
   ],
   "source": [
    "lambdo"
   ]
  },
  {
   "cell_type": "code",
   "execution_count": 31,
   "id": "83de8cc1",
   "metadata": {},
   "outputs": [
    {
     "name": "stdout",
     "output_type": "stream",
     "text": [
      "sum: 55\n"
     ]
    }
   ],
   "source": [
    "sum = 0\n",
    "for i in range(1,11):\n",
    "    sum = sum +i\n",
    "print('sum:',sum)"
   ]
  },
  {
   "cell_type": "code",
   "execution_count": 69,
   "id": "ae2fba7f",
   "metadata": {},
   "outputs": [],
   "source": [
    "num_list=[1,2,3,4,5,6,7,8,9,10,[1,2,3,4]]"
   ]
  },
  {
   "cell_type": "code",
   "execution_count": 71,
   "id": "585bd845",
   "metadata": {},
   "outputs": [
    {
     "data": {
      "text/plain": [
       "[1, 2, 3]"
      ]
     },
     "execution_count": 71,
     "metadata": {},
     "output_type": "execute_result"
    }
   ],
   "source": [
    "num_list[-1][0:3]"
   ]
  },
  {
   "cell_type": "code",
   "execution_count": 47,
   "id": "7ba10228",
   "metadata": {},
   "outputs": [
    {
     "data": {
      "text/plain": [
       "[1, 2, 3, 4]"
      ]
     },
     "execution_count": 47,
     "metadata": {},
     "output_type": "execute_result"
    }
   ],
   "source": [
    "num_list[-1]"
   ]
  },
  {
   "cell_type": "code",
   "execution_count": 49,
   "id": "9e9593b5",
   "metadata": {},
   "outputs": [
    {
     "data": {
      "text/plain": [
       "3"
      ]
     },
     "execution_count": 49,
     "metadata": {},
     "output_type": "execute_result"
    }
   ],
   "source": [
    "num_list[-1][-2]"
   ]
  },
  {
   "cell_type": "code",
   "execution_count": 54,
   "id": "f0871343",
   "metadata": {},
   "outputs": [
    {
     "data": {
      "text/plain": [
       "[1, 2, 3]"
      ]
     },
     "execution_count": 54,
     "metadata": {},
     "output_type": "execute_result"
    }
   ],
   "source": [
    "num_list[0:3]"
   ]
  },
  {
   "cell_type": "code",
   "execution_count": 65,
   "id": "1122cc43",
   "metadata": {},
   "outputs": [
    {
     "data": {
      "text/plain": [
       "11"
      ]
     },
     "execution_count": 65,
     "metadata": {},
     "output_type": "execute_result"
    }
   ],
   "source": [
    "# asd\n",
    "len(num_list)"
   ]
  },
  {
   "cell_type": "code",
   "execution_count": 67,
   "id": "4b7faf77",
   "metadata": {},
   "outputs": [],
   "source": [
    "num_list[0] = 'change'"
   ]
  },
  {
   "cell_type": "code",
   "execution_count": 72,
   "id": "6f1d085d",
   "metadata": {},
   "outputs": [
    {
     "data": {
      "text/plain": [
       "[1, 2, 3, 4, 5, 6, 7, 8, 9, 10, [1, 2, 3, 4]]"
      ]
     },
     "execution_count": 72,
     "metadata": {},
     "output_type": "execute_result"
    }
   ],
   "source": [
    "num_list"
   ]
  },
  {
   "cell_type": "code",
   "execution_count": 83,
   "id": "0aa699e6",
   "metadata": {},
   "outputs": [
    {
     "ename": "SyntaxError",
     "evalue": "invalid syntax (560910177.py, line 2)",
     "output_type": "error",
     "traceback": [
      "\u001b[1;36m  File \u001b[1;32m\"C:\\Users\\user\\AppData\\Local\\Temp\\ipykernel_8044\\560910177.py\"\u001b[1;36m, line \u001b[1;32m2\u001b[0m\n\u001b[1;33m    num list = [1,5,4,3,5,9,8,8,7,10]\u001b[0m\n\u001b[1;37m        ^\u001b[0m\n\u001b[1;31mSyntaxError\u001b[0m\u001b[1;31m:\u001b[0m invalid syntax\n"
     ]
    }
   ],
   "source": []
  },
  {
   "cell_type": "code",
   "execution_count": 3,
   "id": "54fd451e",
   "metadata": {},
   "outputs": [],
   "source": [
    "num_list = [1,5,4,3,5,9,8,8,7,10]"
   ]
  },
  {
   "cell_type": "code",
   "execution_count": 4,
   "id": "885de183",
   "metadata": {},
   "outputs": [],
   "source": [
    "num_list.sort()"
   ]
  },
  {
   "cell_type": "code",
   "execution_count": 6,
   "id": "97eb9083",
   "metadata": {},
   "outputs": [
    {
     "data": {
      "text/plain": [
       "[1, 3, 4, 5, 5, 7, 8, 8, 9, 10]"
      ]
     },
     "execution_count": 6,
     "metadata": {},
     "output_type": "execute_result"
    }
   ],
   "source": [
    "num_list"
   ]
  },
  {
   "cell_type": "code",
   "execution_count": 13,
   "id": "d9d0a518",
   "metadata": {},
   "outputs": [],
   "source": [
    "eng_list = ['ㄱ','ㄹ','ㄷ']"
   ]
  },
  {
   "cell_type": "code",
   "execution_count": 18,
   "id": "4f094e92",
   "metadata": {},
   "outputs": [
    {
     "data": {
      "text/plain": [
       "['ㄱ', 'ㄷ', 'ㄹ']"
      ]
     },
     "execution_count": 18,
     "metadata": {},
     "output_type": "execute_result"
    }
   ],
   "source": [
    "eng_list"
   ]
  },
  {
   "cell_type": "code",
   "execution_count": 19,
   "id": "ee0bb6c9",
   "metadata": {},
   "outputs": [],
   "source": [
    "eng_list.sort()"
   ]
  },
  {
   "cell_type": "code",
   "execution_count": 21,
   "id": "a94efc5e",
   "metadata": {},
   "outputs": [
    {
     "data": {
      "text/plain": [
       "1"
      ]
     },
     "execution_count": 21,
     "metadata": {},
     "output_type": "execute_result"
    }
   ],
   "source": [
    "eng_list.index('ㄷ')"
   ]
  },
  {
   "cell_type": "code",
   "execution_count": 53,
   "id": "16a5708a",
   "metadata": {},
   "outputs": [],
   "source": [
    "eng_list.insert(2,'ㄹ')"
   ]
  },
  {
   "cell_type": "code",
   "execution_count": 42,
   "id": "1d86dd9d",
   "metadata": {},
   "outputs": [
    {
     "data": {
      "text/plain": [
       "['ㄱ', 'ㄷ', 'ㄹ']"
      ]
     },
     "execution_count": 42,
     "metadata": {},
     "output_type": "execute_result"
    }
   ],
   "source": [
    "eng_list"
   ]
  },
  {
   "cell_type": "code",
   "execution_count": 43,
   "id": "61f10aa2",
   "metadata": {},
   "outputs": [],
   "source": [
    "eng_list.remove('ㄹ')"
   ]
  },
  {
   "cell_type": "code",
   "execution_count": 47,
   "id": "05183f2f",
   "metadata": {},
   "outputs": [
    {
     "ename": "IndexError",
     "evalue": "pop index out of range",
     "output_type": "error",
     "traceback": [
      "\u001b[1;31m---------------------------------------------------------------------------\u001b[0m",
      "\u001b[1;31mIndexError\u001b[0m                                Traceback (most recent call last)",
      "\u001b[1;32m~\\AppData\\Local\\Temp\\ipykernel_2960\\1078276651.py\u001b[0m in \u001b[0;36m<module>\u001b[1;34m\u001b[0m\n\u001b[1;32m----> 1\u001b[1;33m \u001b[0mgggg\u001b[0m\u001b[1;33m=\u001b[0m\u001b[0meng_list\u001b[0m\u001b[1;33m.\u001b[0m\u001b[0mpop\u001b[0m\u001b[1;33m(\u001b[0m\u001b[1;36m1\u001b[0m\u001b[1;33m)\u001b[0m\u001b[1;33m\u001b[0m\u001b[1;33m\u001b[0m\u001b[0m\n\u001b[0m",
      "\u001b[1;31mIndexError\u001b[0m: pop index out of range"
     ]
    }
   ],
   "source": [
    "gggg=eng_list.pop(1)"
   ]
  },
  {
   "cell_type": "code",
   "execution_count": 54,
   "id": "40c106bf",
   "metadata": {},
   "outputs": [
    {
     "data": {
      "text/plain": [
       "['ㄱ', 'ㄹ', 'ㄹ', 'ㄹ', 'ㄹ', 'ㄹ']"
      ]
     },
     "execution_count": 54,
     "metadata": {},
     "output_type": "execute_result"
    }
   ],
   "source": [
    "eng_list"
   ]
  },
  {
   "cell_type": "code",
   "execution_count": 56,
   "id": "9b5b0448",
   "metadata": {},
   "outputs": [
    {
     "data": {
      "text/plain": [
       "5"
      ]
     },
     "execution_count": 56,
     "metadata": {},
     "output_type": "execute_result"
    }
   ],
   "source": [
    "eng_list.count('ㄹ')"
   ]
  },
  {
   "cell_type": "code",
   "execution_count": 58,
   "id": "e136e6ed",
   "metadata": {},
   "outputs": [],
   "source": [
    "a=[1,2]\n",
    "b=[3,4,5]"
   ]
  },
  {
   "cell_type": "code",
   "execution_count": 60,
   "id": "322b1196",
   "metadata": {},
   "outputs": [],
   "source": [
    "a.extend(b)"
   ]
  },
  {
   "cell_type": "code",
   "execution_count": 62,
   "id": "b9441601",
   "metadata": {},
   "outputs": [
    {
     "data": {
      "text/plain": [
       "[1, 2, 3, 4, 5, 3, 4, 5]"
      ]
     },
     "execution_count": 62,
     "metadata": {},
     "output_type": "execute_result"
    }
   ],
   "source": [
    "a"
   ]
  },
  {
   "cell_type": "code",
   "execution_count": null,
   "id": "78522d2a",
   "metadata": {},
   "outputs": [],
   "source": [
    "#3단구구단을 리스트에 담기 \n",
    "#for문과 append를 사용\n",
    "\n",
    "#리스트 -table_list\n",
    "#리스트 이름- three_list"
   ]
  },
  {
   "cell_type": "code",
   "execution_count": 19,
   "id": "f03be08d",
   "metadata": {},
   "outputs": [
    {
     "data": {
      "text/plain": [
       "[3, 6, 9, 12, 15, 18, 21, 24, 27]"
      ]
     },
     "execution_count": 19,
     "metadata": {},
     "output_type": "execute_result"
    }
   ],
   "source": [
    "gob=0\n",
    "three_list = []\n",
    "for i in range(1,10):\n",
    "    for j in [3]:\n",
    "        gob=j*i\n",
    "    three_list.append(gob)\n",
    "three_list"
   ]
  },
  {
   "cell_type": "code",
   "execution_count": 18,
   "id": "615dc59a",
   "metadata": {},
   "outputs": [
    {
     "data": {
      "text/plain": [
       "[[1, 2, 3, 4, 5, 6, 7, 8, 9],\n",
       " [2, 4, 6, 8, 10, 12, 14, 16, 18],\n",
       " [3, 6, 9, 12, 15, 18, 21, 24, 27],\n",
       " [4, 8, 12, 16, 20, 24, 28, 32, 36],\n",
       " [5, 10, 15, 20, 25, 30, 35, 40, 45],\n",
       " [6, 12, 18, 24, 30, 36, 42, 48, 54],\n",
       " [7, 14, 21, 28, 35, 42, 49, 56, 63],\n",
       " [8, 16, 24, 32, 40, 48, 56, 64, 72],\n",
       " [9, 18, 27, 36, 45, 54, 63, 72, 81]]"
      ]
     },
     "execution_count": 18,
     "metadata": {},
     "output_type": "execute_result"
    }
   ],
   "source": [
    "table_list =[]\n",
    "\n",
    "for i in range(1,10):\n",
    "    num_list=[]\n",
    "    for j in range(1,10):\n",
    "        num_list.append(i*j)\n",
    "    table_list.append(num_list)\n",
    "table_list"
   ]
  },
  {
   "cell_type": "code",
   "execution_count": 29,
   "id": "70014e3f",
   "metadata": {},
   "outputs": [],
   "source": [
    "three_list = [3 * i for i in range(1,10)]\n"
   ]
  },
  {
   "cell_type": "code",
   "execution_count": 31,
   "id": "8b2ac059",
   "metadata": {},
   "outputs": [
    {
     "data": {
      "text/plain": [
       "[3, 6, 9, 12, 15, 18, 21, 24, 27]"
      ]
     },
     "execution_count": 31,
     "metadata": {},
     "output_type": "execute_result"
    }
   ],
   "source": [
    "three_list"
   ]
  },
  {
   "cell_type": "code",
   "execution_count": null,
   "id": "e1891f45",
   "metadata": {},
   "outputs": [],
   "source": [
    "# 튜플(tuple)"
   ]
  },
  {
   "cell_type": "markdown",
   "id": "1d58afe4",
   "metadata": {},
   "source": [
    "a=(1,2,3,4)"
   ]
  },
  {
   "cell_type": "code",
   "execution_count": 38,
   "id": "9fa7b56d",
   "metadata": {},
   "outputs": [],
   "source": [
    "a = (1,2,3,4)\n",
    "b= (5,6)"
   ]
  },
  {
   "cell_type": "code",
   "execution_count": 41,
   "id": "60a2bea8",
   "metadata": {},
   "outputs": [
    {
     "data": {
      "text/plain": [
       "(1, 2, 3, 4, 1, 2, 3, 4, 1, 2, 3, 4)"
      ]
     },
     "execution_count": 41,
     "metadata": {},
     "output_type": "execute_result"
    }
   ],
   "source": [
    "a * 3"
   ]
  },
  {
   "cell_type": "code",
   "execution_count": 43,
   "id": "3a87b050",
   "metadata": {},
   "outputs": [],
   "source": [
    "# 집합(set)"
   ]
  },
  {
   "cell_type": "code",
   "execution_count": 45,
   "id": "00b2063f",
   "metadata": {},
   "outputs": [],
   "source": [
    "a = {1,2,3,4,5}\n",
    "b = {3,4,5,6,7}\n",
    "c= set([1,2,3,4,5])"
   ]
  },
  {
   "cell_type": "code",
   "execution_count": 48,
   "id": "a5d759b2",
   "metadata": {},
   "outputs": [
    {
     "data": {
      "text/plain": [
       "{3, 4, 5}"
      ]
     },
     "execution_count": 48,
     "metadata": {},
     "output_type": "execute_result"
    }
   ],
   "source": [
    "a & b"
   ]
  },
  {
   "cell_type": "code",
   "execution_count": 50,
   "id": "2d433076",
   "metadata": {},
   "outputs": [
    {
     "data": {
      "text/plain": [
       "{1, 2, 3, 4, 5, 6, 7}"
      ]
     },
     "execution_count": 50,
     "metadata": {},
     "output_type": "execute_result"
    }
   ],
   "source": [
    "a|b"
   ]
  },
  {
   "cell_type": "code",
   "execution_count": 52,
   "id": "3ccfa367",
   "metadata": {},
   "outputs": [
    {
     "data": {
      "text/plain": [
       "{1, 2, 3, 4, 5, 6, 7}"
      ]
     },
     "execution_count": 52,
     "metadata": {},
     "output_type": "execute_result"
    }
   ],
   "source": [
    "a.union(b)"
   ]
  },
  {
   "cell_type": "code",
   "execution_count": 54,
   "id": "49df55de",
   "metadata": {},
   "outputs": [
    {
     "data": {
      "text/plain": [
       "{1, 2}"
      ]
     },
     "execution_count": 54,
     "metadata": {},
     "output_type": "execute_result"
    }
   ],
   "source": [
    "a-b"
   ]
  },
  {
   "cell_type": "code",
   "execution_count": 56,
   "id": "7883a116",
   "metadata": {},
   "outputs": [
    {
     "data": {
      "text/plain": [
       "{6, 7}"
      ]
     },
     "execution_count": 56,
     "metadata": {},
     "output_type": "execute_result"
    }
   ],
   "source": [
    "b-a"
   ]
  },
  {
   "cell_type": "code",
   "execution_count": 60,
   "id": "0a797881",
   "metadata": {},
   "outputs": [
    {
     "data": {
      "text/plain": [
       "{1, 2, 3, 4, 5}"
      ]
     },
     "execution_count": 60,
     "metadata": {},
     "output_type": "execute_result"
    }
   ],
   "source": [
    "d= set(c)\n",
    "c"
   ]
  },
  {
   "cell_type": "markdown",
   "id": "5aede9ae",
   "metadata": {},
   "source": [
    "# 딕셔너리\n",
    "\n",
    "# {key L value}"
   ]
  },
  {
   "cell_type": "code",
   "execution_count": 73,
   "id": "73828cd5",
   "metadata": {},
   "outputs": [],
   "source": [
    "a = {'이름' : '김기찬','직장' : '게임아이'}"
   ]
  },
  {
   "cell_type": "code",
   "execution_count": 76,
   "id": "f67b8a56",
   "metadata": {},
   "outputs": [
    {
     "data": {
      "text/plain": [
       "{'이름': '김기찬', '직장': '게임아이', '사는곳': '인천'}"
      ]
     },
     "execution_count": 76,
     "metadata": {},
     "output_type": "execute_result"
    }
   ],
   "source": [
    "a['사는곳'] = '인천'\n",
    "a"
   ]
  },
  {
   "cell_type": "code",
   "execution_count": 78,
   "id": "36167fcc",
   "metadata": {},
   "outputs": [],
   "source": [
    "a['좋아하는 음식'] = ['피자', '치킨', '마라탕']"
   ]
  },
  {
   "cell_type": "code",
   "execution_count": 80,
   "id": "4ccf18ef",
   "metadata": {},
   "outputs": [
    {
     "data": {
      "text/plain": [
       "{'이름': '김기찬', '직장': '게임아이', '사는곳': '인천', '좋아하는 음식': ['피자', '치킨', '마라탕']}"
      ]
     },
     "execution_count": 80,
     "metadata": {},
     "output_type": "execute_result"
    }
   ],
   "source": [
    "a"
   ]
  },
  {
   "cell_type": "code",
   "execution_count": 84,
   "id": "90c5f582",
   "metadata": {},
   "outputs": [
    {
     "data": {
      "text/plain": [
       "'김기찬'"
      ]
     },
     "execution_count": 84,
     "metadata": {},
     "output_type": "execute_result"
    }
   ],
   "source": [
    "a.get('이름')"
   ]
  },
  {
   "cell_type": "code",
   "execution_count": 86,
   "id": "f2ad29d7",
   "metadata": {},
   "outputs": [
    {
     "data": {
      "text/plain": [
       "'김기찬'"
      ]
     },
     "execution_count": 86,
     "metadata": {},
     "output_type": "execute_result"
    }
   ],
   "source": [
    "a['이름']"
   ]
  },
  {
   "cell_type": "markdown",
   "id": "e3f25695",
   "metadata": {},
   "source": [
    "a['이름'] = '기찬'"
   ]
  },
  {
   "cell_type": "code",
   "execution_count": 90,
   "id": "69656d78",
   "metadata": {},
   "outputs": [
    {
     "data": {
      "text/plain": [
       "{'이름': '기찬', '직장': '게임아이', '사는곳': '인천', '좋아하는 음식': ['피자', '치킨', '마라탕']}"
      ]
     },
     "execution_count": 90,
     "metadata": {},
     "output_type": "execute_result"
    }
   ],
   "source": [
    "a"
   ]
  },
  {
   "cell_type": "code",
   "execution_count": 93,
   "id": "f5c6c0aa",
   "metadata": {},
   "outputs": [
    {
     "data": {
      "text/plain": [
       "['이름', '직장', '사는곳', '좋아하는 음식']"
      ]
     },
     "execution_count": 93,
     "metadata": {},
     "output_type": "execute_result"
    }
   ],
   "source": [
    "list(a.keys())"
   ]
  },
  {
   "cell_type": "code",
   "execution_count": 96,
   "id": "a848e745",
   "metadata": {},
   "outputs": [
    {
     "data": {
      "text/plain": [
       "[('이름', '기찬'), ('직장', '게임아이'), ('사는곳', '인천'), ('좋아하는 음식', ['피자', '치킨', '마라탕'])]"
      ]
     },
     "execution_count": 96,
     "metadata": {},
     "output_type": "execute_result"
    }
   ],
   "source": [
    "list(a.items())"
   ]
  },
  {
   "cell_type": "code",
   "execution_count": 98,
   "id": "3bb54d2f",
   "metadata": {},
   "outputs": [],
   "source": [
    "a.clear()"
   ]
  },
  {
   "cell_type": "code",
   "execution_count": 100,
   "id": "5e5ee45a",
   "metadata": {},
   "outputs": [
    {
     "data": {
      "text/plain": [
       "{}"
      ]
     },
     "execution_count": 100,
     "metadata": {},
     "output_type": "execute_result"
    }
   ],
   "source": [
    "a\n"
   ]
  },
  {
   "cell_type": "code",
   "execution_count": 103,
   "id": "dce07cc0",
   "metadata": {},
   "outputs": [
    {
     "data": {
      "text/plain": [
       "False"
      ]
     },
     "execution_count": 103,
     "metadata": {},
     "output_type": "execute_result"
    }
   ],
   "source": [
    "'dddd' in a"
   ]
  },
  {
   "cell_type": "code",
   "execution_count": 137,
   "id": "bf056e87",
   "metadata": {},
   "outputs": [],
   "source": []
  },
  {
   "cell_type": "code",
   "execution_count": null,
   "id": "964b4c5f",
   "metadata": {},
   "outputs": [],
   "source": [
    "sd"
   ]
  },
  {
   "cell_type": "markdown",
   "id": "4d8ca4e8",
   "metadata": {},
   "source": [
    "# for문을 사용해서 딕셔너리를 만들것\n",
    "# {1:서주 아이스바, 2:아맛나, 3:바밤바, 4:비비빅}"
   ]
  },
  {
   "cell_type": "code",
   "execution_count": 153,
   "id": "9448d233",
   "metadata": {},
   "outputs": [],
   "source": [
    "icecream = ['서주아이스바','아맛나','바밤바','비비빅']\n",
    "ice_dicts = {}\n",
    "for i in range(len(icecream)):\n",
    "    ice_dicts[i] = icecream[i]"
   ]
  },
  {
   "cell_type": "code",
   "execution_count": 155,
   "id": "08746d3a",
   "metadata": {},
   "outputs": [
    {
     "data": {
      "text/plain": [
       "{0: '서주아이스바', 1: '아맛나', 2: '바밤바', 3: '비비빅'}"
      ]
     },
     "execution_count": 155,
     "metadata": {},
     "output_type": "execute_result"
    }
   ],
   "source": [
    "ice_dicts"
   ]
  },
  {
   "cell_type": "code",
   "execution_count": 157,
   "id": "71258294",
   "metadata": {},
   "outputs": [
    {
     "data": {
      "text/plain": [
       "{0: '서주아이스바', 1: '아맛나', 2: '바밤바', 3: '비비빅'}"
      ]
     },
     "execution_count": 157,
     "metadata": {},
     "output_type": "execute_result"
    }
   ],
   "source": [
    "{i:icecream[i] for i in range(len(icecream))}"
   ]
  },
  {
   "cell_type": "code",
   "execution_count": 161,
   "id": "c04ac5c9",
   "metadata": {},
   "outputs": [
    {
     "name": "stdout",
     "output_type": "stream",
     "text": [
      "800원이 있습니다.\n"
     ]
    }
   ],
   "source": [
    "a = 800\n",
    "\n",
    "if a== 1000:\n",
    "    print('천원이 있습니다')\n",
    "elif a == 800:\n",
    "    print('800원이 있습니다.')\n",
    "else:\n",
    "    print('돈이 없습니다.')"
   ]
  },
  {
   "cell_type": "code",
   "execution_count": 163,
   "id": "a82dca1f",
   "metadata": {},
   "outputs": [
    {
     "data": {
      "text/plain": [
       "True"
      ]
     },
     "execution_count": 163,
     "metadata": {},
     "output_type": "execute_result"
    }
   ],
   "source": [
    "a != 700"
   ]
  },
  {
   "cell_type": "code",
   "execution_count": 171,
   "id": "d9c6c554",
   "metadata": {
    "scrolled": true
   },
   "outputs": [
    {
     "name": "stdout",
     "output_type": "stream",
     "text": [
      "돈이 없다\n"
     ]
    }
   ],
   "source": [
    "money = None\n",
    "if not money:\n",
    "    print('돈이 없다')\n",
    "else:\n",
    "    print('돈이 있다')"
   ]
  },
  {
   "cell_type": "code",
   "execution_count": 176,
   "id": "f3685d27",
   "metadata": {},
   "outputs": [
    {
     "name": "stdout",
     "output_type": "stream",
     "text": [
      "숫자가 없어요\n"
     ]
    }
   ],
   "source": [
    "money_list  = [100, 200, 300]\n",
    "if 400  in money_list:\n",
    "    print('숫자가 있어요')\n",
    "else:\n",
    "    print('숫자가 없어요')"
   ]
  },
  {
   "cell_type": "code",
   "execution_count": 178,
   "id": "e83884db",
   "metadata": {},
   "outputs": [
    {
     "name": "stdout",
     "output_type": "stream",
     "text": [
      "둘 다 ㅇ\n"
     ]
    }
   ],
   "source": [
    "money_list = [100, 200 , 300]\n",
    "\n",
    "if 100 in money_list and 200 in money_list:\n",
    "    print('둘 다 ㅇ')\n",
    "else:\n",
    "    print('아님')"
   ]
  },
  {
   "cell_type": "code",
   "execution_count": 180,
   "id": "afa3c613",
   "metadata": {},
   "outputs": [
    {
     "name": "stdout",
     "output_type": "stream",
     "text": [
      "둘 중 하나\n"
     ]
    }
   ],
   "source": [
    "money_list = [100, 200 , 300]\n",
    "\n",
    "if 100 in money_list or 2400 in money_list:\n",
    "    print('둘 중 하나')\n",
    "else:\n",
    "    print('하나도 x')"
   ]
  },
  {
   "cell_type": "markdown",
   "id": "420923dc",
   "metadata": {},
   "source": [
    "# if문을 사용, input함수를 사용해서\n",
    "# 받은 점수가\n",
    "# 100점일 경우 A,\n",
    "# 90~99 B,\n",
    "# 80~89 C,\n",
    "# 70~79 D,\n",
    "# 나머지 F해서 결과 뽑기"
   ]
  },
  {
   "cell_type": "code",
   "execution_count": null,
   "id": "3492eeab",
   "metadata": {},
   "outputs": [],
   "source": [
    "grd = int(input('점수를 입력해 주세요.'))\n",
    "type(grd)"
   ]
  },
  {
   "cell_type": "code",
   "execution_count": 3,
   "id": "1cd4a29c",
   "metadata": {},
   "outputs": [
    {
     "name": "stdout",
     "output_type": "stream",
     "text": [
      "점수를 입력해 주세요.747889798749641585415445\n",
      "F\n"
     ]
    }
   ],
   "source": [
    "grd = int(input('점수를 입력해 주세요.'))\n",
    "if grd == 100:\n",
    "    print('A')\n",
    "elif 90<=grd<=99:\n",
    "    print('B')\n",
    "elif 80<=grd<=89:\n",
    "    print('C')\n",
    "elif 70<=grd<=79:\n",
    "    print('D')\n",
    "else:\n",
    "    print('F')"
   ]
  },
  {
   "cell_type": "code",
   "execution_count": null,
   "id": "2d2d7386",
   "metadata": {},
   "outputs": [],
   "source": []
  },
  {
   "cell_type": "code",
   "execution_count": null,
   "id": "32e02822",
   "metadata": {},
   "outputs": [],
   "source": []
  }
 ],
 "metadata": {
  "kernelspec": {
   "display_name": "Python 3 (ipykernel)",
   "language": "python",
   "name": "python3"
  },
  "language_info": {
   "codemirror_mode": {
    "name": "ipython",
    "version": 3
   },
   "file_extension": ".py",
   "mimetype": "text/x-python",
   "name": "python",
   "nbconvert_exporter": "python",
   "pygments_lexer": "ipython3",
   "version": "3.9.13"
  }
 },
 "nbformat": 4,
 "nbformat_minor": 5
}
